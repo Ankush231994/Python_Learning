{
 "cells": [
  {
   "metadata": {},
   "cell_type": "markdown",
   "source": [
    "## Problem Statement: Write a Python program that does the following:\n",
    "### 1. Takes two numbers as input from the user.\n",
    "### 2. Performs the basic mathematical operations on these two numbers:\n",
    "- Addition\n",
    "- Subtraction\n",
    "- Multiplication\n",
    "- Division\n",
    "### 3. Displays the results of each operation on the screen."
   ],
   "id": "be02b9347db459d1"
  },
  {
   "metadata": {
    "ExecuteTime": {
     "end_time": "2025-09-29T07:26:31.358142Z",
     "start_time": "2025-09-29T07:26:24.310760Z"
    }
   },
   "cell_type": "code",
   "source": [
    "first_num = input(\"Enter your first number: \")\n",
    "second_num = input(\"Enter your second number: \")\n",
    "\n",
    "addition = int(first_num) + int(second_num)\n",
    "subtraction = int(first_num) - int(second_num)\n",
    "multiplication = int(first_num) * int(second_num)\n",
    "division = int(first_num) / int(second_num)\n",
    "\n",
    "\n",
    "print(\"Addition: \", addition)\n",
    "print(\"Subtraction: \", subtraction)\n",
    "print(\"Multiplication: \", multiplication)\n",
    "print(\"Division: \", division)\n",
    "\n",
    "\n"
   ],
   "id": "ad1daac2dab83eb3",
   "outputs": [
    {
     "name": "stdout",
     "output_type": "stream",
     "text": [
      "Addition:  36\n",
      "Subtraction:  10\n",
      "Multiplication:  299\n",
      "Division:  1.7692307692307692\n"
     ]
    }
   ],
   "execution_count": 3
  },
  {
   "metadata": {},
   "cell_type": "markdown",
   "source": [
    "## Task 2: Create a Personalized Greeting\n",
    "### Problem Statement: Write a Python program that:\n",
    "1.  Takes a user's first name and last name as input.\n",
    "2.  Concatenates the first name and last name into a full name.\n",
    "3.  Prints a personalized greeting message using the full name."
   ],
   "id": "22e1dae9b61bfaa4"
  },
  {
   "metadata": {
    "ExecuteTime": {
     "end_time": "2025-09-29T08:38:54.030721Z",
     "start_time": "2025-09-29T08:38:46.372843Z"
    }
   },
   "cell_type": "code",
   "source": [
    "first_name = input(\"Enter your first name: \")\n",
    "last_name = input(\"Enter your second name: \")\n",
    "\n",
    "\n",
    "print(\"Hello\" ,first_name + \" \" + last_name + \"!\",\"Welcome to the python program.\")"
   ],
   "id": "338997f1c92005e6",
   "outputs": [
    {
     "name": "stdout",
     "output_type": "stream",
     "text": [
      "Hello ram ram! Welcome to the python program.\n"
     ]
    }
   ],
   "execution_count": 9
  }
 ],
 "metadata": {
  "kernelspec": {
   "display_name": "Python 3",
   "language": "python",
   "name": "python3"
  },
  "language_info": {
   "codemirror_mode": {
    "name": "ipython",
    "version": 2
   },
   "file_extension": ".py",
   "mimetype": "text/x-python",
   "name": "python",
   "nbconvert_exporter": "python",
   "pygments_lexer": "ipython2",
   "version": "2.7.6"
  }
 },
 "nbformat": 4,
 "nbformat_minor": 5
}
