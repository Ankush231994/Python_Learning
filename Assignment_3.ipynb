{
 "cells": [
  {
   "metadata": {},
   "cell_type": "markdown",
   "source": [
    "# ASSIGNMENT 3:\n",
    "## Module 4: Functions & Modules in Python\n",
    "## Task 1: Calculate Factorial Using a Function\n",
    "### Problem Statement: Write a Python program that:\n",
    "1.   Defines a function named factorial that takes a number as an argument and calculates its factorial using a loop or recursion.\n",
    "2.   Returns the calculated factorial.\n",
    "3.   Calls the function with a sample number and prints the output.\n"
   ],
   "id": "4e7c3afe069cbc19"
  },
  {
   "metadata": {
    "ExecuteTime": {
     "end_time": "2025-10-01T09:07:34.691330Z",
     "start_time": "2025-10-01T09:07:31.367035Z"
    }
   },
   "cell_type": "code",
   "source": [
    "n = int(input(\"Enter the Number\"))\n",
    "def factorial(n):\n",
    "    if n < 2:\n",
    "        return 1\n",
    "    else:\n",
    "        return n * factorial(n-1)\n",
    "\n",
    "x = factorial(n)\n",
    "print(f\"Factorial of {a} is {x}\")"
   ],
   "id": "d03b07f104859b4f",
   "outputs": [
    {
     "name": "stdout",
     "output_type": "stream",
     "text": [
      "Factorial of 5 is 120\n"
     ]
    }
   ],
   "execution_count": 2
  },
  {
   "metadata": {},
   "cell_type": "markdown",
   "source": [
    "# Task 2: Using the Math Module for Calculations\n",
    "\n",
    "## Problem Statement: Write a Python program that:\n",
    "1.   Asks the user for a number as input.\n",
    "2.   Uses the math module to calculate the:\n",
    "        -   Square root of the number\n",
    "        - Natural logarithm (log base e) of the number\n",
    "        - Sine of the number (in radians)\n",
    "3.   Displays the calculated results."
   ],
   "id": "b130f07702fda944"
  },
  {
   "metadata": {
    "ExecuteTime": {
     "end_time": "2025-10-01T09:13:49.195329Z",
     "start_time": "2025-10-01T09:13:46.257475Z"
    }
   },
   "cell_type": "code",
   "source": [
    "import math\n",
    "\n",
    "n =  int(input(\"Enter a number\"))\n",
    "\n",
    "sqroot = math.sqrt(n)\n",
    "print(f\"The square root of {n} is {sqroot}\")\n",
    "\n",
    "logarithm = math.log(n)\n",
    "print(f\"The logarithm of {n} is {logarithm}\")\n",
    "\n",
    "sine = math.sin(n)\n",
    "print(f\"The sine of {n} is {sine}\")\n",
    "\n",
    "\n"
   ],
   "id": "ab70902a19d1b72b",
   "outputs": [
    {
     "name": "stdout",
     "output_type": "stream",
     "text": [
      "The square root of 25 is 5.0\n",
      "The logarithm of 25 is 3.2188758248682006\n",
      "The sine of 25 is -0.13235175009777303\n"
     ]
    }
   ],
   "execution_count": 5
  }
 ],
 "metadata": {
  "kernelspec": {
   "display_name": "Python 3",
   "language": "python",
   "name": "python3"
  },
  "language_info": {
   "codemirror_mode": {
    "name": "ipython",
    "version": 2
   },
   "file_extension": ".py",
   "mimetype": "text/x-python",
   "name": "python",
   "nbconvert_exporter": "python",
   "pygments_lexer": "ipython2",
   "version": "2.7.6"
  }
 },
 "nbformat": 4,
 "nbformat_minor": 5
}
