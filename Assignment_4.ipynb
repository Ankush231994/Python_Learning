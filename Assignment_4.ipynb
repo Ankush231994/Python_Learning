{
 "cells": [
  {
   "metadata": {},
   "cell_type": "markdown",
   "source": [
    "\n",
    "# ASSIGNMENT 4:\n",
    "## Module 5: Files, Exceptions, and Errors in Python\n",
    "\n",
    "## Task 1: Read a File and Handle Errors\n",
    "Problem Statement:  Write a Python program that:\n",
    "1.   Opens and reads a text file named sample.txt.\n",
    "2.   Prints its content line by line.\n",
    "3.   Handles errors gracefully if the file does not exist."
   ],
   "id": "81bfdbc0bae1a9e6"
  },
  {
   "metadata": {
    "ExecuteTime": {
     "end_time": "2025-10-01T10:03:45.114670Z",
     "start_time": "2025-10-01T10:03:45.098210Z"
    }
   },
   "cell_type": "code",
   "source": [
    "try:\n",
    "    f = \"sample1.txt\"\n",
    "    file_name = open(f, \"r\")\n",
    "    read_file = file_name.read()\n",
    "    print(f\"Reading file context: \\n{read_file} \")\n",
    "except FileNotFoundError:\n",
    "    print(f\"Error: The file {f} was not found\")"
   ],
   "id": "e9ff1bd19271b003",
   "outputs": [
    {
     "name": "stdout",
     "output_type": "stream",
     "text": [
      "Error: The file sample1.txt was not found\n"
     ]
    }
   ],
   "execution_count": 37
  },
  {
   "metadata": {},
   "cell_type": "markdown",
   "source": [
    "## Task 2: Write and Append Data to a File\n",
    "\n",
    "## Problem Statement: Write a Python program that:\n",
    "1.   Takes user input and writes it to a file named output.txt.\n",
    "2.   Appends additional data to the same file.\n",
    "3.   Reads and displays the final content of the file.\n"
   ],
   "id": "bab95d7ba1456063"
  },
  {
   "metadata": {
    "ExecuteTime": {
     "end_time": "2025-10-01T10:44:06.935362Z",
     "start_time": "2025-10-01T10:44:00.651885Z"
    }
   },
   "cell_type": "code",
   "source": [
    "i = input(\"Enter text to write the file: \")\n",
    "f = \"output.txt\"\n",
    "file_path = open(f, \"w\")\n",
    "write_file = file_path.write(i + \"\\n\")\n",
    "file_path.close()\n",
    "file_path = open(f, \"r\")\n",
    "read_file = file_path.read()\n",
    "file_path.close()\n",
    "\n",
    "file_path = open(f, \"r\")\n",
    "file_read = file_path.read()\n",
    "print(f\"Data Successfully written to {f}\")\n",
    "\n",
    "j = input(\"Enter additional text to append in the file: \")\n",
    "file_path = open(f, \"a\")\n",
    "append_file_= file_path.write(j + \"\\n\")\n",
    "file_path.close()\n",
    "print(f\"Data Successfully appended\")\n",
    "file_path.close()\n",
    "\n",
    "file_path = open(f, \"r\")\n",
    "file_read = file_path.read()\n",
    "print(f\"Final content of {f}: \\n{file_read}\\n\")\n",
    "\n",
    "\n",
    "\n",
    "\n",
    "# print(f\"Final Output: {f}\")"
   ],
   "id": "62a09f283ba194b4",
   "outputs": [
    {
     "name": "stdout",
     "output_type": "stream",
     "text": [
      "Data Successfully written to output.txt\n",
      "Data Successfully appended\n",
      "Final content of output.txt: \n",
      "Hello Python\n",
      "Learning file handling in python\n",
      "\n",
      "\n"
     ]
    }
   ],
   "execution_count": 48
  }
 ],
 "metadata": {
  "kernelspec": {
   "display_name": "Python 3",
   "language": "python",
   "name": "python3"
  },
  "language_info": {
   "codemirror_mode": {
    "name": "ipython",
    "version": 2
   },
   "file_extension": ".py",
   "mimetype": "text/x-python",
   "name": "python",
   "nbconvert_exporter": "python",
   "pygments_lexer": "ipython2",
   "version": "2.7.6"
  }
 },
 "nbformat": 4,
 "nbformat_minor": 5
}
