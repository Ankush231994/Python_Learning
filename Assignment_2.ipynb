{
 "cells": [
  {
   "metadata": {},
   "cell_type": "markdown",
   "source": [
    "## Task 1: Check if a Number is Even or Odd\n",
    "Problem Statement:  Write a Python program that:\n",
    "1. Takes an integer input from the user.\n",
    "2. Checks whether the number is even or odd using an if-else statement.\n",
    "3. Displays the result accordingly."
   ],
   "id": "f0fef705270e3067"
  },
  {
   "metadata": {
    "ExecuteTime": {
     "end_time": "2025-09-29T09:37:18.447976Z",
     "start_time": "2025-09-29T09:37:16.648384Z"
    }
   },
   "cell_type": "code",
   "source": [
    "num = int(input(\"Enter a number: \"))\n",
    "\n",
    "if num%2 == 0:\n",
    "    print(f\"{num} is even\")\n",
    "else:\n",
    "    print(f\"{num} is odd\")"
   ],
   "id": "c18d5d6689896407",
   "outputs": [
    {
     "name": "stdout",
     "output_type": "stream",
     "text": [
      "12 is even\n"
     ]
    }
   ],
   "execution_count": 10
  },
  {
   "metadata": {},
   "cell_type": "markdown",
   "source": [
    "## Task 2: Sum of Integers from 1 to 50 Using a Loop\n",
    "\n",
    "Problem Statement: Write a Python program that:\n",
    "1.   Uses a for loop to iterate over numbers from 1 to 50.\n",
    "2.   Calculates the sum of all integers in this range.\n",
    "3.   Displays the final sum."
   ],
   "id": "2700cd3b89ecaf8"
  },
  {
   "metadata": {
    "ExecuteTime": {
     "end_time": "2025-09-29T10:09:27.369893Z",
     "start_time": "2025-09-29T10:09:11.987330Z"
    }
   },
   "cell_type": "code",
   "source": [
    "total = 0\n",
    "num= 50\n",
    "for i in range(num):\n",
    "    total =total+i\n",
    "print(f\"Sum of numbers from 1 to {num} is {total}\")"
   ],
   "id": "80f724dff6187d2c",
   "outputs": [
    {
     "name": "stdout",
     "output_type": "stream",
     "text": [
      "Sum of numbers from 1 to 50 is 1225\n"
     ]
    }
   ],
   "execution_count": null
  }
 ],
 "metadata": {
  "kernelspec": {
   "display_name": "Python 3",
   "language": "python",
   "name": "python3"
  },
  "language_info": {
   "codemirror_mode": {
    "name": "ipython",
    "version": 2
   },
   "file_extension": ".py",
   "mimetype": "text/x-python",
   "name": "python",
   "nbconvert_exporter": "python",
   "pygments_lexer": "ipython2",
   "version": "2.7.6"
  }
 },
 "nbformat": 4,
 "nbformat_minor": 5
}
